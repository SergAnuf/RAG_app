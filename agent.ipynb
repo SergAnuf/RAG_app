{
 "cells": [
  {
   "cell_type": "code",
   "execution_count": 6,
   "metadata": {},
   "outputs": [],
   "source": [
    "import os\n",
    "from dotenv import load_dotenv\n",
    "\n",
    "load_dotenv()\n",
    "# Import relevant functionality\n",
    "from langchain_anthropic import ChatAnthropic\n",
    "from langchain_community.tools.tavily_search import TavilySearchResults\n",
    "from langchain_core.messages import HumanMessage\n",
    "from langgraph.checkpoint.memory import MemorySaver\n",
    "from langgraph.prebuilt import create_react_agent"
   ]
  },
  {
   "cell_type": "code",
   "execution_count": 7,
   "metadata": {},
   "outputs": [],
   "source": [
    "# Create the agent\n",
    "memory = MemorySaver()\n",
    "model = ChatAnthropic(model_name=\"claude-3-sonnet-20240229\")\n",
    "search = TavilySearchResults(max_results=2)\n",
    "tools = [search]\n",
    "agent_executor = create_react_agent(model, tools, checkpointer=memory)"
   ]
  },
  {
   "cell_type": "code",
   "execution_count": 11,
   "metadata": {},
   "outputs": [
    {
     "data": {
      "text/plain": [
       "[{'url': 'https://www.weatherapi.com/',\n",
       "  'content': \"{'location': {'name': 'London', 'region': 'City of London, Greater London', 'country': 'United Kingdom', 'lat': 51.5171, 'lon': -0.1062, 'tz_id': 'Europe/London', 'localtime_epoch': 1733472597, 'localtime': '2024-12-06 08:09'}, 'current': {'last_updated_epoch': 1733472000, 'last_updated': '2024-12-06 08:00', 'temp_c': 6.3, 'temp_f': 43.3, 'is_day': 1, 'condition': {'text': 'Sunny', 'icon': '//cdn.weatherapi.com/weather/64x64/day/113.png', 'code': 1000}, 'wind_mph': 12.8, 'wind_kph': 20.5, 'wind_degree': 279, 'wind_dir': 'W', 'pressure_mb': 1017.0, 'pressure_in': 30.03, 'precip_mm': 0.0, 'precip_in': 0.0, 'humidity': 75, 'cloud': 0, 'feelslike_c': 2.7, 'feelslike_f': 36.8, 'windchill_c': 2.3, 'windchill_f': 36.1, 'heatindex_c': 6.0, 'heatindex_f': 42.8, 'dewpoint_c': 1.8, 'dewpoint_f': 35.2, 'vis_km': 10.0, 'vis_miles': 6.0, 'uv': 0.0, 'gust_mph': 19.0, 'gust_kph': 30.6}}\"},\n",
       " {'url': 'https://weather.metoffice.gov.uk/forecast/u10j124jp',\n",
       "  'content': 'London City Airport 7 day weather forecast including weather warnings, temperature, rain, wind, visibility, humidity and UV ... Use my current location . ... (6 December 2024) Time: 00:00 03:00 06:00 09:00 12:00 15:00 18:00 21:00 Weather symbols: Chance of precipitation'}]"
      ]
     },
     "execution_count": 11,
     "metadata": {},
     "output_type": "execute_result"
    }
   ],
   "source": [
    "search.invoke(\"what is the weather in London?\")"
   ]
  },
  {
   "cell_type": "code",
   "execution_count": 12,
   "metadata": {},
   "outputs": [],
   "source": [
    "import getpass\n",
    "import os\n",
    "from langchain_openai import ChatOpenAI\n",
    "\n",
    "model = ChatOpenAI(model=\"gpt-4\")"
   ]
  },
  {
   "cell_type": "code",
   "execution_count": 13,
   "metadata": {},
   "outputs": [
    {
     "data": {
      "text/plain": [
       "'Hello! How can I assist you today?'"
      ]
     },
     "execution_count": 13,
     "metadata": {},
     "output_type": "execute_result"
    }
   ],
   "source": [
    "from langchain_core.messages import HumanMessage\n",
    "\n",
    "response = model.invoke([HumanMessage(content=\"hi!\")])\n",
    "response.content"
   ]
  },
  {
   "cell_type": "code",
   "execution_count": 15,
   "metadata": {},
   "outputs": [
    {
     "data": {
      "text/plain": [
       "[]"
      ]
     },
     "execution_count": 15,
     "metadata": {},
     "output_type": "execute_result"
    }
   ],
   "source": [
    "response.tool_calls"
   ]
  },
  {
   "cell_type": "code",
   "execution_count": 16,
   "metadata": {},
   "outputs": [],
   "source": [
    "model_with_tools = model.bind_tools(tools)"
   ]
  },
  {
   "cell_type": "code",
   "execution_count": 17,
   "metadata": {},
   "outputs": [
    {
     "name": "stdout",
     "output_type": "stream",
     "text": [
      "ContentString: Hello! How can I assist you today?\n",
      "ToolCalls: []\n"
     ]
    }
   ],
   "source": [
    "response = model_with_tools.invoke([HumanMessage(content=\"Hi!\")])\n",
    "\n",
    "print(f\"ContentString: {response.content}\")\n",
    "print(f\"ToolCalls: {response.tool_calls}\")"
   ]
  },
  {
   "cell_type": "code",
   "execution_count": 18,
   "metadata": {},
   "outputs": [
    {
     "name": "stdout",
     "output_type": "stream",
     "text": [
      "ContentString: \n",
      "ToolCalls: [{'name': 'tavily_search_results_json', 'args': {'query': 'current weather in San Francisco'}, 'id': 'call_sPYq6IFBi9p4BfkpC88ZNCpo', 'type': 'tool_call'}]\n"
     ]
    }
   ],
   "source": [
    "response = model_with_tools.invoke([HumanMessage(content=\"What's the weather in SF?\")])\n",
    "\n",
    "print(f\"ContentString: {response.content}\")\n",
    "print(f\"ToolCalls: {response.tool_calls}\")"
   ]
  },
  {
   "cell_type": "code",
   "execution_count": 19,
   "metadata": {},
   "outputs": [],
   "source": [
    "from langgraph.prebuilt import create_react_agent\n",
    "\n",
    "agent_executor = create_react_agent(model, tools)"
   ]
  },
  {
   "cell_type": "markdown",
   "metadata": {},
   "source": [
    "# Run the agent"
   ]
  },
  {
   "cell_type": "code",
   "execution_count": 20,
   "metadata": {},
   "outputs": [
    {
     "data": {
      "text/plain": [
       "[HumanMessage(content='hi!', additional_kwargs={}, response_metadata={}, id='78d0afc7-b7d1-4f79-85c8-e464640b5b3c'),\n",
       " AIMessage(content='Hello! How can I assist you today?', additional_kwargs={'refusal': None}, response_metadata={'token_usage': {'completion_tokens': 10, 'prompt_tokens': 83, 'total_tokens': 93, 'completion_tokens_details': {'accepted_prediction_tokens': 0, 'audio_tokens': 0, 'reasoning_tokens': 0, 'rejected_prediction_tokens': 0}, 'prompt_tokens_details': {'audio_tokens': 0, 'cached_tokens': 0}}, 'model_name': 'gpt-4-0613', 'system_fingerprint': None, 'finish_reason': 'stop', 'logprobs': None}, id='run-53d31304-5d83-4a27-b00f-7e166e917b2d-0', usage_metadata={'input_tokens': 83, 'output_tokens': 10, 'total_tokens': 93, 'input_token_details': {'audio': 0, 'cache_read': 0}, 'output_token_details': {'audio': 0, 'reasoning': 0}})]"
      ]
     },
     "execution_count": 20,
     "metadata": {},
     "output_type": "execute_result"
    }
   ],
   "source": [
    "response = agent_executor.invoke({\"messages\": [HumanMessage(content=\"hi!\")]})\n",
    "\n",
    "response[\"messages\"]"
   ]
  },
  {
   "cell_type": "code",
   "execution_count": 21,
   "metadata": {},
   "outputs": [
    {
     "data": {
      "text/plain": [
       "[HumanMessage(content='whats the weather in sf?', additional_kwargs={}, response_metadata={}, id='4742fd60-2fc7-4ee4-bd80-66447d195290'),\n",
       " AIMessage(content='', additional_kwargs={'tool_calls': [{'id': 'call_AcQya64Akxt7jMi6qFQ9E1Fz', 'function': {'arguments': '{\\n  \"query\": \"current weather in San Francisco\"\\n}', 'name': 'tavily_search_results_json'}, 'type': 'function'}], 'refusal': None}, response_metadata={'token_usage': {'completion_tokens': 23, 'prompt_tokens': 88, 'total_tokens': 111, 'completion_tokens_details': {'accepted_prediction_tokens': 0, 'audio_tokens': 0, 'reasoning_tokens': 0, 'rejected_prediction_tokens': 0}, 'prompt_tokens_details': {'audio_tokens': 0, 'cached_tokens': 0}}, 'model_name': 'gpt-4-0613', 'system_fingerprint': None, 'finish_reason': 'tool_calls', 'logprobs': None}, id='run-a86d2523-6f22-4fe1-83b3-21444041ab17-0', tool_calls=[{'name': 'tavily_search_results_json', 'args': {'query': 'current weather in San Francisco'}, 'id': 'call_AcQya64Akxt7jMi6qFQ9E1Fz', 'type': 'tool_call'}], usage_metadata={'input_tokens': 88, 'output_tokens': 23, 'total_tokens': 111, 'input_token_details': {'audio': 0, 'cache_read': 0}, 'output_token_details': {'audio': 0, 'reasoning': 0}}),\n",
       " ToolMessage(content='[{\"url\": \"https://www.weatherapi.com/\", \"content\": \"{\\'location\\': {\\'name\\': \\'San Francisco\\', \\'region\\': \\'California\\', \\'country\\': \\'United States of America\\', \\'lat\\': 37.775, \\'lon\\': -122.4183, \\'tz_id\\': \\'America/Los_Angeles\\', \\'localtime_epoch\\': 1733476411, \\'localtime\\': \\'2024-12-06 01:13\\'}, \\'current\\': {\\'last_updated_epoch\\': 1733475600, \\'last_updated\\': \\'2024-12-06 01:00\\', \\'temp_c\\': 10.4, \\'temp_f\\': 50.7, \\'is_day\\': 0, \\'condition\\': {\\'text\\': \\'Clear\\', \\'icon\\': \\'//cdn.weatherapi.com/weather/64x64/night/113.png\\', \\'code\\': 1000}, \\'wind_mph\\': 3.1, \\'wind_kph\\': 5.0, \\'wind_degree\\': 100, \\'wind_dir\\': \\'E\\', \\'pressure_mb\\': 1023.0, \\'pressure_in\\': 30.21, \\'precip_mm\\': 0.0, \\'precip_in\\': 0.0, \\'humidity\\': 83, \\'cloud\\': 0, \\'feelslike_c\\': 10.2, \\'feelslike_f\\': 50.4, \\'windchill_c\\': 9.4, \\'windchill_f\\': 48.9, \\'heatindex_c\\': 9.8, \\'heatindex_f\\': 49.6, \\'dewpoint_c\\': 9.2, \\'dewpoint_f\\': 48.6, \\'vis_km\\': 16.0, \\'vis_miles\\': 9.0, \\'uv\\': 0.0, \\'gust_mph\\': 6.4, \\'gust_kph\\': 10.3}}\"}, {\"url\": \"https://world-weather.info/forecast/usa/san_francisco/june-2024/\", \"content\": \"Weather in San Francisco in June 2024 (California) - Detailed Weather Forecast for a Month Weather in San Francisco Weather in San Francisco in June 2024 1 +64°+54° 2 +66°+55° 3 +64°+59° 4 +73°+55° 5 +72°+59° 6 +64°+55° 7 +64°+54° 8 +64°+55° 9 +63°+55° 10 +64°+54° 11 +72°+52° 12 +66°+54° 13 +63°+55° 14 +64°+52° 15 +64°+52° 16 +66°+54° 17 +70°+52° 18 +66°+54° 19 +61°+52° 20 +61°+52° 21 +63°+52° 22 +66°+50° 23 +64°+54° 24 +63°+52° 25 +64°+54° 26 +63°+54° 27 +63°+54° 28 +66°+54° 29 +70°+54° 30 +68°+59° Weather in Washington, D.C.+66° Sacramento+59° Pleasanton+57° Redwood City+57° San Leandro+59° San Mateo+55° San Rafael+57° San Ramon+57° South San Francisco+55° Vallejo+57° Pacifica+52° Berkeley+61° Concord+57° Daly City+54° world\\'s temperature today Temperature units\"}]', name='tavily_search_results_json', id='f68f61f9-c01e-41e4-8347-23e1ab030097', tool_call_id='call_AcQya64Akxt7jMi6qFQ9E1Fz', artifact={'query': 'current weather in San Francisco', 'follow_up_questions': None, 'answer': None, 'images': [], 'results': [{'title': 'Weather in San Francisco', 'url': 'https://www.weatherapi.com/', 'content': \"{'location': {'name': 'San Francisco', 'region': 'California', 'country': 'United States of America', 'lat': 37.775, 'lon': -122.4183, 'tz_id': 'America/Los_Angeles', 'localtime_epoch': 1733476411, 'localtime': '2024-12-06 01:13'}, 'current': {'last_updated_epoch': 1733475600, 'last_updated': '2024-12-06 01:00', 'temp_c': 10.4, 'temp_f': 50.7, 'is_day': 0, 'condition': {'text': 'Clear', 'icon': '//cdn.weatherapi.com/weather/64x64/night/113.png', 'code': 1000}, 'wind_mph': 3.1, 'wind_kph': 5.0, 'wind_degree': 100, 'wind_dir': 'E', 'pressure_mb': 1023.0, 'pressure_in': 30.21, 'precip_mm': 0.0, 'precip_in': 0.0, 'humidity': 83, 'cloud': 0, 'feelslike_c': 10.2, 'feelslike_f': 50.4, 'windchill_c': 9.4, 'windchill_f': 48.9, 'heatindex_c': 9.8, 'heatindex_f': 49.6, 'dewpoint_c': 9.2, 'dewpoint_f': 48.6, 'vis_km': 16.0, 'vis_miles': 9.0, 'uv': 0.0, 'gust_mph': 6.4, 'gust_kph': 10.3}}\", 'score': 0.9997468, 'raw_content': None}, {'title': 'Weather in San Francisco in June 2024', 'url': 'https://world-weather.info/forecast/usa/san_francisco/june-2024/', 'content': \"Weather in San Francisco in June 2024 (California) - Detailed Weather Forecast for a Month Weather in San Francisco Weather in San Francisco in June 2024 1 +64°+54° 2 +66°+55° 3 +64°+59° 4 +73°+55° 5 +72°+59° 6 +64°+55° 7 +64°+54° 8 +64°+55° 9 +63°+55° 10 +64°+54° 11 +72°+52° 12 +66°+54° 13 +63°+55° 14 +64°+52° 15 +64°+52° 16 +66°+54° 17 +70°+52° 18 +66°+54° 19 +61°+52° 20 +61°+52° 21 +63°+52° 22 +66°+50° 23 +64°+54° 24 +63°+52° 25 +64°+54° 26 +63°+54° 27 +63°+54° 28 +66°+54° 29 +70°+54° 30 +68°+59° Weather in Washington, D.C.+66° Sacramento+59° Pleasanton+57° Redwood City+57° San Leandro+59° San Mateo+55° San Rafael+57° San Ramon+57° South San Francisco+55° Vallejo+57° Pacifica+52° Berkeley+61° Concord+57° Daly City+54° world's temperature today Temperature units\", 'score': 0.9967269, 'raw_content': None}], 'response_time': 3.87}),\n",
       " AIMessage(content='The current weather in San Francisco, California, USA is clear with a temperature of 10.4°C (50.7°F). The wind is coming from the East at 5.0 kph (3.1 mph). The humidity is at 83% and there is no precipitation.', additional_kwargs={'refusal': None}, response_metadata={'token_usage': {'completion_tokens': 61, 'prompt_tokens': 913, 'total_tokens': 974, 'completion_tokens_details': {'accepted_prediction_tokens': 0, 'audio_tokens': 0, 'reasoning_tokens': 0, 'rejected_prediction_tokens': 0}, 'prompt_tokens_details': {'audio_tokens': 0, 'cached_tokens': 0}}, 'model_name': 'gpt-4-0613', 'system_fingerprint': None, 'finish_reason': 'stop', 'logprobs': None}, id='run-696f37bc-2be8-49ac-8ea5-dcb932080fd5-0', usage_metadata={'input_tokens': 913, 'output_tokens': 61, 'total_tokens': 974, 'input_token_details': {'audio': 0, 'cache_read': 0}, 'output_token_details': {'audio': 0, 'reasoning': 0}})]"
      ]
     },
     "execution_count": 21,
     "metadata": {},
     "output_type": "execute_result"
    }
   ],
   "source": [
    "# tool invoke\n",
    "\n",
    "response = agent_executor.invoke(\n",
    "    {\"messages\": [HumanMessage(content=\"whats the weather in sf?\")]}\n",
    ")\n",
    "response[\"messages\"]"
   ]
  },
  {
   "cell_type": "code",
   "execution_count": 22,
   "metadata": {},
   "outputs": [
    {
     "name": "stdout",
     "output_type": "stream",
     "text": [
      "{'agent': {'messages': [AIMessage(content='', additional_kwargs={'tool_calls': [{'id': 'call_l3yqdR4SUCMtjHsCLHE1LfoN', 'function': {'arguments': '{\\n  \"query\": \"current weather in San Francisco\"\\n}', 'name': 'tavily_search_results_json'}, 'type': 'function'}], 'refusal': None}, response_metadata={'token_usage': {'completion_tokens': 23, 'prompt_tokens': 88, 'total_tokens': 111, 'completion_tokens_details': {'accepted_prediction_tokens': 0, 'audio_tokens': 0, 'reasoning_tokens': 0, 'rejected_prediction_tokens': 0}, 'prompt_tokens_details': {'audio_tokens': 0, 'cached_tokens': 0}}, 'model_name': 'gpt-4-0613', 'system_fingerprint': None, 'finish_reason': 'tool_calls', 'logprobs': None}, id='run-3814bbd9-81f9-48f1-b048-3dd217e3b05f-0', tool_calls=[{'name': 'tavily_search_results_json', 'args': {'query': 'current weather in San Francisco'}, 'id': 'call_l3yqdR4SUCMtjHsCLHE1LfoN', 'type': 'tool_call'}], usage_metadata={'input_tokens': 88, 'output_tokens': 23, 'total_tokens': 111, 'input_token_details': {'audio': 0, 'cache_read': 0}, 'output_token_details': {'audio': 0, 'reasoning': 0}})]}}\n",
      "----\n",
      "{'tools': {'messages': [ToolMessage(content='[{\"url\": \"https://www.weatherapi.com/\", \"content\": \"{\\'location\\': {\\'name\\': \\'San Francisco\\', \\'region\\': \\'California\\', \\'country\\': \\'United States of America\\', \\'lat\\': 37.775, \\'lon\\': -122.4183, \\'tz_id\\': \\'America/Los_Angeles\\', \\'localtime_epoch\\': 1733476784, \\'localtime\\': \\'2024-12-06 01:19\\'}, \\'current\\': {\\'last_updated_epoch\\': 1733476500, \\'last_updated\\': \\'2024-12-06 01:15\\', \\'temp_c\\': 8.3, \\'temp_f\\': 46.9, \\'is_day\\': 0, \\'condition\\': {\\'text\\': \\'Clear\\', \\'icon\\': \\'//cdn.weatherapi.com/weather/64x64/night/113.png\\', \\'code\\': 1000}, \\'wind_mph\\': 3.1, \\'wind_kph\\': 5.0, \\'wind_degree\\': 100, \\'wind_dir\\': \\'E\\', \\'pressure_mb\\': 1023.0, \\'pressure_in\\': 30.2, \\'precip_mm\\': 0.0, \\'precip_in\\': 0.0, \\'humidity\\': 86, \\'cloud\\': 0, \\'feelslike_c\\': 7.8, \\'feelslike_f\\': 46.1, \\'windchill_c\\': 9.4, \\'windchill_f\\': 48.9, \\'heatindex_c\\': 9.8, \\'heatindex_f\\': 49.6, \\'dewpoint_c\\': 9.2, \\'dewpoint_f\\': 48.6, \\'vis_km\\': 16.0, \\'vis_miles\\': 9.0, \\'uv\\': 0.0, \\'gust_mph\\': 6.4, \\'gust_kph\\': 10.3}}\"}, {\"url\": \"https://world-weather.info/forecast/usa/san_francisco/june-2024/\", \"content\": \"Weather in San Francisco in June 2024 (California) - Detailed Weather Forecast for a Month Weather in San Francisco Weather in San Francisco in June 2024 1 +64°+54° 2 +66°+55° 3 +64°+59° 4 +73°+55° 5 +72°+59° 6 +64°+55° 7 +64°+54° 8 +64°+55° 9 +63°+55° 10 +64°+54° 11 +72°+52° 12 +66°+54° 13 +63°+55° 14 +64°+52° 15 +64°+52° 16 +66°+54° 17 +70°+52° 18 +66°+54° 19 +61°+52° 20 +61°+52° 21 +63°+52° 22 +66°+50° 23 +64°+54° 24 +63°+52° 25 +64°+54° 26 +63°+54° 27 +63°+54° 28 +66°+54° 29 +70°+54° 30 +68°+59° Weather in Washington, D.C.+66° Sacramento+59° Pleasanton+57° Redwood City+57° San Leandro+59° San Mateo+55° San Rafael+57° San Ramon+57° South San Francisco+55° Vallejo+57° Pacifica+52° Berkeley+61° Concord+57° Daly City+54° world\\'s temperature today Temperature units\"}]', name='tavily_search_results_json', id='1648f467-b533-43b4-b2b9-39c0a11c4104', tool_call_id='call_l3yqdR4SUCMtjHsCLHE1LfoN', artifact={'query': 'current weather in San Francisco', 'follow_up_questions': None, 'answer': None, 'images': [], 'results': [{'title': 'Weather in San Francisco, CA', 'url': 'https://www.weatherapi.com/', 'content': \"{'location': {'name': 'San Francisco', 'region': 'California', 'country': 'United States of America', 'lat': 37.775, 'lon': -122.4183, 'tz_id': 'America/Los_Angeles', 'localtime_epoch': 1733476784, 'localtime': '2024-12-06 01:19'}, 'current': {'last_updated_epoch': 1733476500, 'last_updated': '2024-12-06 01:15', 'temp_c': 8.3, 'temp_f': 46.9, 'is_day': 0, 'condition': {'text': 'Clear', 'icon': '//cdn.weatherapi.com/weather/64x64/night/113.png', 'code': 1000}, 'wind_mph': 3.1, 'wind_kph': 5.0, 'wind_degree': 100, 'wind_dir': 'E', 'pressure_mb': 1023.0, 'pressure_in': 30.2, 'precip_mm': 0.0, 'precip_in': 0.0, 'humidity': 86, 'cloud': 0, 'feelslike_c': 7.8, 'feelslike_f': 46.1, 'windchill_c': 9.4, 'windchill_f': 48.9, 'heatindex_c': 9.8, 'heatindex_f': 49.6, 'dewpoint_c': 9.2, 'dewpoint_f': 48.6, 'vis_km': 16.0, 'vis_miles': 9.0, 'uv': 0.0, 'gust_mph': 6.4, 'gust_kph': 10.3}}\", 'score': 0.9974428, 'raw_content': None}, {'title': 'Weather in San Francisco in June 2024', 'url': 'https://world-weather.info/forecast/usa/san_francisco/june-2024/', 'content': \"Weather in San Francisco in June 2024 (California) - Detailed Weather Forecast for a Month Weather in San Francisco Weather in San Francisco in June 2024 1 +64°+54° 2 +66°+55° 3 +64°+59° 4 +73°+55° 5 +72°+59° 6 +64°+55° 7 +64°+54° 8 +64°+55° 9 +63°+55° 10 +64°+54° 11 +72°+52° 12 +66°+54° 13 +63°+55° 14 +64°+52° 15 +64°+52° 16 +66°+54° 17 +70°+52° 18 +66°+54° 19 +61°+52° 20 +61°+52° 21 +63°+52° 22 +66°+50° 23 +64°+54° 24 +63°+52° 25 +64°+54° 26 +63°+54° 27 +63°+54° 28 +66°+54° 29 +70°+54° 30 +68°+59° Weather in Washington, D.C.+66° Sacramento+59° Pleasanton+57° Redwood City+57° San Leandro+59° San Mateo+55° San Rafael+57° San Ramon+57° South San Francisco+55° Vallejo+57° Pacifica+52° Berkeley+61° Concord+57° Daly City+54° world's temperature today Temperature units\", 'score': 0.9967269, 'raw_content': None}], 'response_time': 3.1})]}}\n",
      "----\n",
      "{'agent': {'messages': [AIMessage(content='The current weather in San Francisco, California is clear with a temperature of 8.3°C (46.9°F). The wind is coming from the East at a speed of 5.0 kph (3.1 mph). The humidity is at 86%.', additional_kwargs={'refusal': None}, response_metadata={'token_usage': {'completion_tokens': 56, 'prompt_tokens': 913, 'total_tokens': 969, 'completion_tokens_details': {'accepted_prediction_tokens': 0, 'audio_tokens': 0, 'reasoning_tokens': 0, 'rejected_prediction_tokens': 0}, 'prompt_tokens_details': {'audio_tokens': 0, 'cached_tokens': 0}}, 'model_name': 'gpt-4-0613', 'system_fingerprint': None, 'finish_reason': 'stop', 'logprobs': None}, id='run-a65cb552-d345-4eef-9798-fc5d279f2a92-0', usage_metadata={'input_tokens': 913, 'output_tokens': 56, 'total_tokens': 969, 'input_token_details': {'audio': 0, 'cache_read': 0}, 'output_token_details': {'audio': 0, 'reasoning': 0}})]}}\n",
      "----\n"
     ]
    }
   ],
   "source": [
    "for chunk in agent_executor.stream(\n",
    "    {\"messages\": [HumanMessage(content=\"whats the weather in sf?\")]}\n",
    "):\n",
    "    print(chunk)\n",
    "    print(\"----\")"
   ]
  },
  {
   "cell_type": "code",
   "execution_count": 23,
   "metadata": {},
   "outputs": [
    {
     "name": "stdout",
     "output_type": "stream",
     "text": [
      "--\n",
      "Starting tool: tavily_search_results_json with inputs: {'query': 'current weather in San Francisco'}\n",
      "Done tool: tavily_search_results_json\n",
      "Tool output was: content='[{\"url\": \"https://www.weatherapi.com/\", \"content\": \"{\\'location\\': {\\'name\\': \\'San Francisco\\', \\'region\\': \\'California\\', \\'country\\': \\'United States of America\\', \\'lat\\': 37.775, \\'lon\\': -122.4183, \\'tz_id\\': \\'America/Los_Angeles\\', \\'localtime_epoch\\': 1733477275, \\'localtime\\': \\'2024-12-06 01:27\\'}, \\'current\\': {\\'last_updated_epoch\\': 1733476500, \\'last_updated\\': \\'2024-12-06 01:15\\', \\'temp_c\\': 8.3, \\'temp_f\\': 46.9, \\'is_day\\': 0, \\'condition\\': {\\'text\\': \\'Clear\\', \\'icon\\': \\'//cdn.weatherapi.com/weather/64x64/night/113.png\\', \\'code\\': 1000}, \\'wind_mph\\': 3.1, \\'wind_kph\\': 5.0, \\'wind_degree\\': 100, \\'wind_dir\\': \\'E\\', \\'pressure_mb\\': 1023.0, \\'pressure_in\\': 30.2, \\'precip_mm\\': 0.0, \\'precip_in\\': 0.0, \\'humidity\\': 86, \\'cloud\\': 0, \\'feelslike_c\\': 7.8, \\'feelslike_f\\': 46.1, \\'windchill_c\\': 9.4, \\'windchill_f\\': 48.9, \\'heatindex_c\\': 9.8, \\'heatindex_f\\': 49.6, \\'dewpoint_c\\': 9.2, \\'dewpoint_f\\': 48.6, \\'vis_km\\': 16.0, \\'vis_miles\\': 9.0, \\'uv\\': 0.0, \\'gust_mph\\': 6.4, \\'gust_kph\\': 10.3}}\"}, {\"url\": \"https://world-weather.info/forecast/usa/san_francisco/june-2024/\", \"content\": \"Weather in San Francisco in June 2024 (California) - Detailed Weather Forecast for a Month Weather in San Francisco Weather in San Francisco in June 2024 1 +64°+54° 2 +66°+55° 3 +64°+59° 4 +73°+55° 5 +72°+59° 6 +64°+55° 7 +64°+54° 8 +64°+55° 9 +63°+55° 10 +64°+54° 11 +72°+52° 12 +66°+54° 13 +63°+55° 14 +64°+52° 15 +64°+52° 16 +66°+54° 17 +70°+52° 18 +66°+54° 19 +61°+52° 20 +61°+52° 21 +63°+52° 22 +66°+50° 23 +64°+54° 24 +63°+52° 25 +64°+54° 26 +63°+54° 27 +63°+54° 28 +66°+54° 29 +70°+54° 30 +68°+59° Weather in Washington, D.C.+66° Sacramento+59° Pleasanton+57° Redwood City+57° San Leandro+59° San Mateo+55° San Rafael+57° San Ramon+57° South San Francisco+55° Vallejo+57° Pacifica+52° Berkeley+61° Concord+57° Daly City+54° world\\'s temperature today Temperature units\"}]' name='tavily_search_results_json' tool_call_id='call_a2jn3hYE7NvwKp4wFow9Ob9Q' artifact={'query': 'current weather in San Francisco', 'follow_up_questions': None, 'answer': None, 'images': [], 'results': [{'title': 'Weather in San Francisco, CA', 'url': 'https://www.weatherapi.com/', 'content': \"{'location': {'name': 'San Francisco', 'region': 'California', 'country': 'United States of America', 'lat': 37.775, 'lon': -122.4183, 'tz_id': 'America/Los_Angeles', 'localtime_epoch': 1733477275, 'localtime': '2024-12-06 01:27'}, 'current': {'last_updated_epoch': 1733476500, 'last_updated': '2024-12-06 01:15', 'temp_c': 8.3, 'temp_f': 46.9, 'is_day': 0, 'condition': {'text': 'Clear', 'icon': '//cdn.weatherapi.com/weather/64x64/night/113.png', 'code': 1000}, 'wind_mph': 3.1, 'wind_kph': 5.0, 'wind_degree': 100, 'wind_dir': 'E', 'pressure_mb': 1023.0, 'pressure_in': 30.2, 'precip_mm': 0.0, 'precip_in': 0.0, 'humidity': 86, 'cloud': 0, 'feelslike_c': 7.8, 'feelslike_f': 46.1, 'windchill_c': 9.4, 'windchill_f': 48.9, 'heatindex_c': 9.8, 'heatindex_f': 49.6, 'dewpoint_c': 9.2, 'dewpoint_f': 48.6, 'vis_km': 16.0, 'vis_miles': 9.0, 'uv': 0.0, 'gust_mph': 6.4, 'gust_kph': 10.3}}\", 'score': 0.9979055, 'raw_content': None}, {'title': 'Weather in San Francisco in June 2024', 'url': 'https://world-weather.info/forecast/usa/san_francisco/june-2024/', 'content': \"Weather in San Francisco in June 2024 (California) - Detailed Weather Forecast for a Month Weather in San Francisco Weather in San Francisco in June 2024 1 +64°+54° 2 +66°+55° 3 +64°+59° 4 +73°+55° 5 +72°+59° 6 +64°+55° 7 +64°+54° 8 +64°+55° 9 +63°+55° 10 +64°+54° 11 +72°+52° 12 +66°+54° 13 +63°+55° 14 +64°+52° 15 +64°+52° 16 +66°+54° 17 +70°+52° 18 +66°+54° 19 +61°+52° 20 +61°+52° 21 +63°+52° 22 +66°+50° 23 +64°+54° 24 +63°+52° 25 +64°+54° 26 +63°+54° 27 +63°+54° 28 +66°+54° 29 +70°+54° 30 +68°+59° Weather in Washington, D.C.+66° Sacramento+59° Pleasanton+57° Redwood City+57° San Leandro+59° San Mateo+55° San Rafael+57° San Ramon+57° South San Francisco+55° Vallejo+57° Pacifica+52° Berkeley+61° Concord+57° Daly City+54° world's temperature today Temperature units\", 'score': 0.9967269, 'raw_content': None}], 'response_time': 2.48}\n",
      "--\n",
      "The| current| weather| in| San| Francisco|,| California| is| clear| with| a| temperature| of| |8|.|3|°C| (|46|.|9|°F|).| The| wind| is| coming| from| the| East| at| a| speed| of| |5|.|0| k|ph| (|3|.|1| mph|).| The| humidity| level| is| at| |86|%.|"
     ]
    }
   ],
   "source": [
    "async for event in agent_executor.astream_events(\n",
    "    {\"messages\": [HumanMessage(content=\"whats the weather in sf?\")]}, version=\"v1\"\n",
    "):\n",
    "    kind = event[\"event\"]\n",
    "    if kind == \"on_chain_start\":\n",
    "        if (\n",
    "            event[\"name\"] == \"Agent\"\n",
    "        ):  # Was assigned when creating the agent with `.with_config({\"run_name\": \"Agent\"})`\n",
    "            print(\n",
    "                f\"Starting agent: {event['name']} with input: {event['data'].get('input')}\"\n",
    "            )\n",
    "    elif kind == \"on_chain_end\":\n",
    "        if (\n",
    "            event[\"name\"] == \"Agent\"\n",
    "        ):  # Was assigned when creating the agent with `.with_config({\"run_name\": \"Agent\"})`\n",
    "            print()\n",
    "            print(\"--\")\n",
    "            print(\n",
    "                f\"Done agent: {event['name']} with output: {event['data'].get('output')['output']}\"\n",
    "            )\n",
    "    if kind == \"on_chat_model_stream\":\n",
    "        content = event[\"data\"][\"chunk\"].content\n",
    "        if content:\n",
    "            # Empty content in the context of OpenAI means\n",
    "            # that the model is asking for a tool to be invoked.\n",
    "            # So we only print non-empty content\n",
    "            print(content, end=\"|\")\n",
    "    elif kind == \"on_tool_start\":\n",
    "        print(\"--\")\n",
    "        print(\n",
    "            f\"Starting tool: {event['name']} with inputs: {event['data'].get('input')}\"\n",
    "        )\n",
    "    elif kind == \"on_tool_end\":\n",
    "        print(f\"Done tool: {event['name']}\")\n",
    "        print(f\"Tool output was: {event['data'].get('output')}\")\n",
    "        print(\"--\")"
   ]
  },
  {
   "cell_type": "markdown",
   "metadata": {},
   "source": [
    "Memmory in agents "
   ]
  },
  {
   "cell_type": "code",
   "execution_count": 24,
   "metadata": {},
   "outputs": [],
   "source": [
    "from langgraph.checkpoint.memory import MemorySaver\n",
    "\n",
    "memory = MemorySaver()"
   ]
  },
  {
   "cell_type": "code",
   "execution_count": 25,
   "metadata": {},
   "outputs": [],
   "source": [
    "# agent with memmory \n",
    "agent_executor = create_react_agent(model, tools, checkpointer=memory)\n",
    "\n",
    "config = {\"configurable\": {\"thread_id\": \"abc123\"}}"
   ]
  },
  {
   "cell_type": "code",
   "execution_count": 26,
   "metadata": {},
   "outputs": [
    {
     "name": "stdout",
     "output_type": "stream",
     "text": [
      "{'agent': {'messages': [AIMessage(content='Hello Bob! How can I assist you today?', additional_kwargs={'refusal': None}, response_metadata={'token_usage': {'completion_tokens': 11, 'prompt_tokens': 85, 'total_tokens': 96, 'completion_tokens_details': {'accepted_prediction_tokens': 0, 'audio_tokens': 0, 'reasoning_tokens': 0, 'rejected_prediction_tokens': 0}, 'prompt_tokens_details': {'audio_tokens': 0, 'cached_tokens': 0}}, 'model_name': 'gpt-4-0613', 'system_fingerprint': None, 'finish_reason': 'stop', 'logprobs': None}, id='run-b33817c2-9a62-4593-983b-ab860dd3bf13-0', usage_metadata={'input_tokens': 85, 'output_tokens': 11, 'total_tokens': 96, 'input_token_details': {'audio': 0, 'cache_read': 0}, 'output_token_details': {'audio': 0, 'reasoning': 0}})]}}\n",
      "----\n"
     ]
    }
   ],
   "source": [
    "for chunk in agent_executor.stream(\n",
    "    {\"messages\": [HumanMessage(content=\"hi im bob!\")]}, config\n",
    "):\n",
    "    print(chunk)\n",
    "    print(\"----\")"
   ]
  },
  {
   "cell_type": "code",
   "execution_count": 27,
   "metadata": {},
   "outputs": [
    {
     "name": "stdout",
     "output_type": "stream",
     "text": [
      "{'agent': {'messages': [AIMessage(content='Your name is Bob.', additional_kwargs={'refusal': None}, response_metadata={'token_usage': {'completion_tokens': 6, 'prompt_tokens': 108, 'total_tokens': 114, 'completion_tokens_details': {'accepted_prediction_tokens': 0, 'audio_tokens': 0, 'reasoning_tokens': 0, 'rejected_prediction_tokens': 0}, 'prompt_tokens_details': {'audio_tokens': 0, 'cached_tokens': 0}}, 'model_name': 'gpt-4-0613', 'system_fingerprint': None, 'finish_reason': 'stop', 'logprobs': None}, id='run-bc47506c-8c9e-4d64-b557-fe9492b1eb26-0', usage_metadata={'input_tokens': 108, 'output_tokens': 6, 'total_tokens': 114, 'input_token_details': {'audio': 0, 'cache_read': 0}, 'output_token_details': {'audio': 0, 'reasoning': 0}})]}}\n",
      "----\n"
     ]
    }
   ],
   "source": [
    "for chunk in agent_executor.stream(\n",
    "    {\"messages\": [HumanMessage(content=\"whats my name?\")]}, config\n",
    "):\n",
    "    print(chunk)\n",
    "    print(\"----\")"
   ]
  }
 ],
 "metadata": {
  "kernelspec": {
   "display_name": ".env_rag",
   "language": "python",
   "name": "python3"
  },
  "language_info": {
   "codemirror_mode": {
    "name": "ipython",
    "version": 3
   },
   "file_extension": ".py",
   "mimetype": "text/x-python",
   "name": "python",
   "nbconvert_exporter": "python",
   "pygments_lexer": "ipython3",
   "version": "3.10.16"
  }
 },
 "nbformat": 4,
 "nbformat_minor": 2
}
